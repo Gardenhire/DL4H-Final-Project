{
 "cells": [
  {
   "cell_type": "markdown",
   "id": "703b6bcf-bf53-4798-95b1-6bb991456b2e",
   "metadata": {},
   "source": [
    "**Final Project**"
   ]
  },
  {
   "cell_type": "code",
   "execution_count": 1,
   "id": "5766da4b-8471-4a44-a376-23492f320aeb",
   "metadata": {},
   "outputs": [],
   "source": [
    "import requests\n",
    "import zipfile\n",
    "import io\n",
    "import os"
   ]
  },
  {
   "cell_type": "code",
   "execution_count": 2,
   "id": "eae270af-60a7-4f2a-87ee-0ce3e29b80a5",
   "metadata": {},
   "outputs": [
    {
     "name": "stdout",
     "output_type": "stream",
     "text": [
      "Overwriting requirements.txt\n"
     ]
    }
   ],
   "source": [
    "%%writefile requirements.txt\n",
    "\n",
    "pandas==2.2.3"
   ]
  },
  {
   "cell_type": "code",
   "execution_count": 3,
   "id": "7484f281-cd35-4d31-9d3a-78c4f8db8109",
   "metadata": {},
   "outputs": [
    {
     "name": "stdout",
     "output_type": "stream",
     "text": [
      "Requirement already satisfied: pandas==2.2.3 in ./miniconda/envs/DL4H_FINAL/lib/python3.10/site-packages (from -r requirements.txt (line 2)) (2.2.3)\n",
      "Requirement already satisfied: numpy>=1.22.4 in ./miniconda/envs/DL4H_FINAL/lib/python3.10/site-packages (from pandas==2.2.3->-r requirements.txt (line 2)) (2.2.5)\n",
      "Requirement already satisfied: python-dateutil>=2.8.2 in ./miniconda/envs/DL4H_FINAL/lib/python3.10/site-packages (from pandas==2.2.3->-r requirements.txt (line 2)) (2.9.0.post0)\n",
      "Requirement already satisfied: pytz>=2020.1 in ./miniconda/envs/DL4H_FINAL/lib/python3.10/site-packages (from pandas==2.2.3->-r requirements.txt (line 2)) (2025.2)\n",
      "Requirement already satisfied: tzdata>=2022.7 in ./miniconda/envs/DL4H_FINAL/lib/python3.10/site-packages (from pandas==2.2.3->-r requirements.txt (line 2)) (2025.2)\n",
      "Requirement already satisfied: six>=1.5 in ./miniconda/envs/DL4H_FINAL/lib/python3.10/site-packages (from python-dateutil>=2.8.2->pandas==2.2.3->-r requirements.txt (line 2)) (1.17.0)\n"
     ]
    }
   ],
   "source": [
    "!pip install -r requirements.txt"
   ]
  },
  {
   "cell_type": "code",
   "execution_count": 14,
   "id": "1013931f-7ff7-421a-95fe-a6675e66e7a2",
   "metadata": {},
   "outputs": [],
   "source": [
    "def download_and_extract_folder(github_url, output_dir):\n",
    "  \"\"\"Downloads a folder from a GitHub repository using DownGit and extracts it.\n",
    "\n",
    "  Args:\n",
    "    github_url: The URL of the folder on GitHub (e.g., https://github.com/IvaBojic/SleepQA/tree/main/data).\n",
    "    output_dir: The directory where the downloaded and extracted folder should be placed.\n",
    "  \"\"\"\n",
    "\n",
    "  # 1. Convert the GitHub URL to a DownGit compatible URL.\n",
    "  #  DownGit expects the raw tree URL. Remove the /tree segment and replace /github.com/ with /raw.githubusercontent.com/\n",
    "  downgit_url = github_url#.replace(\"github.com\", \"raw.githubusercontent.com\").replace(\"/tree\", \"\")\n",
    "  #downgit_url = downgit_url + \"?zip=1\" # Add the query parameter to request the zip file\n",
    "\n",
    "  # 2. Download the zip file.\n",
    "  try:\n",
    "    print(f\"Downloading zip file from: {downgit_url}\")\n",
    "    response = requests.get(downgit_url, stream=True)\n",
    "    response.raise_for_status()  # Raise an exception for bad status codes (4xx or 5xx)\n",
    "\n",
    "    file_Path = 'research_Paper_1.zip'\n",
    "\n",
    "    if response.status_code == 200:\n",
    "        print(\"T\")\n",
    "        with open(file_Path, 'wb') as file:\n",
    "            file.write(response.content)\n",
    "\n",
    "\n",
    "      \n",
    "  except requests.exceptions.RequestException as e:\n",
    "    print(f\"Error downloading file: {e}\")\n",
    "    return\n",
    "\n",
    "  # 3. Extract the zip file.\n",
    "  try:\n",
    "    print(f\"Extracting zip file to: {output_dir}\")\n",
    "\n",
    "    zip_file = zipfile.ZipFile(io.BytesIO(response.content))\n",
    "\n",
    "    # Get the root directory name within the zip file.  This is the name\n",
    "    # of the folder we want to extract.  We need to strip the folder from\n",
    "    # the beginning of all the file paths in the zip archive.\n",
    "    first_file = zip_file.namelist()[0]\n",
    "    root_dir_name = first_file.split('/')[0] + '/'  # e.g., \"data/\"\n",
    "\n",
    "    # Create the output directory if it doesn't exist.\n",
    "    os.makedirs(output_dir, exist_ok=True)\n",
    "\n",
    "    for file_path in zip_file.namelist():\n",
    "      if file_path.startswith(root_dir_name):\n",
    "        # Remove the root directory part from the file path\n",
    "        new_file_path = file_path[len(root_dir_name):]\n",
    "\n",
    "        # Avoid extracting the root directory itself.\n",
    "        if new_file_path:\n",
    "          extracted_path = os.path.join(output_dir, new_file_path)\n",
    "\n",
    "          if file_path.endswith('/'):  # It's a directory\n",
    "            os.makedirs(extracted_path, exist_ok=True)\n",
    "          else:  # It's a file\n",
    "            with zip_file.open(file_path) as source, open(extracted_path, \"wb\") as target:\n",
    "              target.write(source.read())\n",
    "    print(\"Extraction complete.\")\n",
    "\n",
    "  except zipfile.BadZipFile:\n",
    "    print(\"Error: The downloaded file is not a valid zip file.\")\n",
    "  except Exception as e:\n",
    "    print(f\"Error extracting files: {e}\")\n"
   ]
  },
  {
   "cell_type": "code",
   "execution_count": 15,
   "id": "15f48c4d-7af9-4589-8895-dc57c80d5fe8",
   "metadata": {},
   "outputs": [
    {
     "name": "stdout",
     "output_type": "stream",
     "text": [
      "Downloading zip file from: https://downgit.github.io/#/home?url=https://github.com/IvaBojic/SleepQA/tree/main/data\n",
      "T\n",
      "Extracting zip file to: SleepQA_data\n",
      "Error: The downloaded file is not a valid zip file.\n"
     ]
    }
   ],
   "source": [
    "github_folder_url = \"https://downgit.github.io/#/home?url=https://github.com/IvaBojic/SleepQA/tree/main/data\"\n",
    "output_directory = \"SleepQA_data\"  # The directory where you want the \"data\" folder to be saved.\n",
    "\n",
    "download_and_extract_folder(github_folder_url, output_directory)"
   ]
  },
  {
   "cell_type": "code",
   "execution_count": null,
   "id": "56c6b464-8afe-424a-805a-d9a096d5ca2d",
   "metadata": {},
   "outputs": [],
   "source": []
  }
 ],
 "metadata": {
  "kernelspec": {
   "display_name": "Python 3 (ipykernel)",
   "language": "python",
   "name": "python3"
  },
  "language_info": {
   "codemirror_mode": {
    "name": "ipython",
    "version": 3
   },
   "file_extension": ".py",
   "mimetype": "text/x-python",
   "name": "python",
   "nbconvert_exporter": "python",
   "pygments_lexer": "ipython3",
   "version": "3.10.16"
  }
 },
 "nbformat": 4,
 "nbformat_minor": 5
}
