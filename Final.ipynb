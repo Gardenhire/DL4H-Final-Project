{
 "cells": [
  {
   "cell_type": "markdown",
   "id": "703b6bcf-bf53-4798-95b1-6bb991456b2e",
   "metadata": {},
   "source": [
    "**Final Project**"
   ]
  },
  {
   "cell_type": "code",
   "execution_count": 1,
   "id": "5766da4b-8471-4a44-a376-23492f320aeb",
   "metadata": {},
   "outputs": [],
   "source": [
    "#Utilities\n",
    "import subprocess\n",
    "import os\n",
    "def directory_exists(directory_path):\n",
    "  \"\"\"\n",
    "  Checks if a directory exists at the given path.\n",
    "\n",
    "  Args:\n",
    "    directory_path: The path to the directory to check.\n",
    "\n",
    "  Returns:\n",
    "    True if the directory exists, False otherwise.\n",
    "  \"\"\"\n",
    "  return os.path.isdir(directory_path)"
   ]
  },
  {
   "cell_type": "code",
   "execution_count": 2,
   "id": "eae270af-60a7-4f2a-87ee-0ce3e29b80a5",
   "metadata": {},
   "outputs": [
    {
     "name": "stdout",
     "output_type": "stream",
     "text": [
      "Overwriting requirements.txt\n"
     ]
    }
   ],
   "source": [
    "%%writefile requirements.txt\n",
    "\n",
    "pandas==2.2.3\n",
    "seaborn==0.13.2\n",
    "nltk==3.9.1\n",
    "iteration-utilities==0.13.0\n",
    "scikit-learn==1.6.1\n",
    "torch>=2.0.0\n",
    "numpy>=2.2\n",
    "transformers>=4.51"
   ]
  },
  {
   "cell_type": "code",
   "execution_count": 3,
   "id": "8478fca8-4624-40b1-9f41-86d8b61d47fc",
   "metadata": {},
   "outputs": [],
   "source": [
    "#install DPR\n",
    "#os.chdir(\"DPR\")\n",
    "#command = [\"pip\", \"install\",\".\"]\n",
    "#process = subprocess.Popen(command, stdout=subprocess.PIPE, stderr=subprocess.PIPE)\n",
    "#stdout, stderr = process.communicate()  # Wait for the process to finish\n",
    "#os.chdir(\"..\")\n",
    "\n",
    "#Setup DPR\n",
    "#if directory_exists('DPR') is False:\n",
    "#    #Clone DPR Repo\n",
    "#    command = [\"git\", \"clone\", \"https://github.com/facebookresearch/DPR.git\"]\n",
    "#    process = subprocess.Popen(command, stdout=subprocess.PIPE, stderr=subprocess.PIPE)\n",
    "#    stdout, stderr = process.communicate()  # Wait for the process to finish\n",
    "\n",
    "    #install DPR\n",
    "#    os.chdir(\"DPR\")\n",
    "#    command = [\"pip\", \"install\",\".\"]\n",
    "#    process = subprocess.Popen(command, stdout=subprocess.PIPE, stderr=subprocess.PIPE)\n",
    "#    stdout, stderr = process.communicate()  # Wait for the process to finish\n",
    "#    os.chdir(\"..\")\n",
    "    "
   ]
  },
  {
   "cell_type": "code",
   "execution_count": 4,
   "id": "7484f281-cd35-4d31-9d3a-78c4f8db8109",
   "metadata": {},
   "outputs": [
    {
     "name": "stdout",
     "output_type": "stream",
     "text": [
      "Requirement already satisfied: pandas==2.2.3 in /Users/Kevin/miniconda/envs/DL4H_FINAL/lib/python3.10/site-packages (from -r requirements.txt (line 2)) (2.2.3)\n",
      "Requirement already satisfied: seaborn==0.13.2 in /Users/Kevin/miniconda/envs/DL4H_FINAL/lib/python3.10/site-packages (from -r requirements.txt (line 3)) (0.13.2)\n",
      "Requirement already satisfied: nltk==3.9.1 in /Users/Kevin/miniconda/envs/DL4H_FINAL/lib/python3.10/site-packages (from -r requirements.txt (line 4)) (3.9.1)\n",
      "Requirement already satisfied: iteration-utilities==0.13.0 in /Users/Kevin/miniconda/envs/DL4H_FINAL/lib/python3.10/site-packages (from -r requirements.txt (line 5)) (0.13.0)\n",
      "Requirement already satisfied: scikit-learn==1.6.1 in /Users/Kevin/miniconda/envs/DL4H_FINAL/lib/python3.10/site-packages (from -r requirements.txt (line 6)) (1.6.1)\n",
      "Requirement already satisfied: torch>=2.0.0 in /Users/Kevin/miniconda/envs/DL4H_FINAL/lib/python3.10/site-packages (from -r requirements.txt (line 7)) (2.2.2)\n",
      "Requirement already satisfied: numpy>=2.2 in /Users/Kevin/miniconda/envs/DL4H_FINAL/lib/python3.10/site-packages (from -r requirements.txt (line 8)) (2.2.5)\n",
      "Requirement already satisfied: transformers>=4.51 in /Users/Kevin/miniconda/envs/DL4H_FINAL/lib/python3.10/site-packages (from -r requirements.txt (line 9)) (4.51.3)\n",
      "Requirement already satisfied: python-dateutil>=2.8.2 in /Users/Kevin/miniconda/envs/DL4H_FINAL/lib/python3.10/site-packages (from pandas==2.2.3->-r requirements.txt (line 2)) (2.9.0.post0)\n",
      "Requirement already satisfied: pytz>=2020.1 in /Users/Kevin/miniconda/envs/DL4H_FINAL/lib/python3.10/site-packages (from pandas==2.2.3->-r requirements.txt (line 2)) (2025.2)\n",
      "Requirement already satisfied: tzdata>=2022.7 in /Users/Kevin/miniconda/envs/DL4H_FINAL/lib/python3.10/site-packages (from pandas==2.2.3->-r requirements.txt (line 2)) (2025.2)\n",
      "Requirement already satisfied: matplotlib!=3.6.1,>=3.4 in /Users/Kevin/miniconda/envs/DL4H_FINAL/lib/python3.10/site-packages (from seaborn==0.13.2->-r requirements.txt (line 3)) (3.10.1)\n",
      "Requirement already satisfied: click in /Users/Kevin/miniconda/envs/DL4H_FINAL/lib/python3.10/site-packages (from nltk==3.9.1->-r requirements.txt (line 4)) (8.1.8)\n",
      "Requirement already satisfied: joblib in /Users/Kevin/miniconda/envs/DL4H_FINAL/lib/python3.10/site-packages (from nltk==3.9.1->-r requirements.txt (line 4)) (1.4.2)\n",
      "Requirement already satisfied: regex>=2021.8.3 in /Users/Kevin/miniconda/envs/DL4H_FINAL/lib/python3.10/site-packages (from nltk==3.9.1->-r requirements.txt (line 4)) (2024.11.6)\n",
      "Requirement already satisfied: tqdm in /Users/Kevin/miniconda/envs/DL4H_FINAL/lib/python3.10/site-packages (from nltk==3.9.1->-r requirements.txt (line 4)) (4.67.1)\n",
      "Requirement already satisfied: scipy>=1.6.0 in /Users/Kevin/miniconda/envs/DL4H_FINAL/lib/python3.10/site-packages (from scikit-learn==1.6.1->-r requirements.txt (line 6)) (1.15.2)\n",
      "Requirement already satisfied: threadpoolctl>=3.1.0 in /Users/Kevin/miniconda/envs/DL4H_FINAL/lib/python3.10/site-packages (from scikit-learn==1.6.1->-r requirements.txt (line 6)) (3.6.0)\n",
      "Requirement already satisfied: filelock in /Users/Kevin/miniconda/envs/DL4H_FINAL/lib/python3.10/site-packages (from torch>=2.0.0->-r requirements.txt (line 7)) (3.18.0)\n",
      "Requirement already satisfied: typing-extensions>=4.8.0 in /Users/Kevin/miniconda/envs/DL4H_FINAL/lib/python3.10/site-packages (from torch>=2.0.0->-r requirements.txt (line 7)) (4.13.2)\n",
      "Requirement already satisfied: sympy in /Users/Kevin/miniconda/envs/DL4H_FINAL/lib/python3.10/site-packages (from torch>=2.0.0->-r requirements.txt (line 7)) (1.14.0)\n",
      "Requirement already satisfied: networkx in /Users/Kevin/miniconda/envs/DL4H_FINAL/lib/python3.10/site-packages (from torch>=2.0.0->-r requirements.txt (line 7)) (3.4.2)\n",
      "Requirement already satisfied: jinja2 in /Users/Kevin/miniconda/envs/DL4H_FINAL/lib/python3.10/site-packages (from torch>=2.0.0->-r requirements.txt (line 7)) (3.1.6)\n",
      "Requirement already satisfied: fsspec in /Users/Kevin/miniconda/envs/DL4H_FINAL/lib/python3.10/site-packages (from torch>=2.0.0->-r requirements.txt (line 7)) (2025.3.2)\n",
      "Requirement already satisfied: huggingface-hub<1.0,>=0.30.0 in /Users/Kevin/miniconda/envs/DL4H_FINAL/lib/python3.10/site-packages (from transformers>=4.51->-r requirements.txt (line 9)) (0.30.2)\n",
      "Requirement already satisfied: packaging>=20.0 in /Users/Kevin/miniconda/envs/DL4H_FINAL/lib/python3.10/site-packages (from transformers>=4.51->-r requirements.txt (line 9)) (25.0)\n",
      "Requirement already satisfied: pyyaml>=5.1 in /Users/Kevin/miniconda/envs/DL4H_FINAL/lib/python3.10/site-packages (from transformers>=4.51->-r requirements.txt (line 9)) (6.0.2)\n",
      "Requirement already satisfied: requests in /Users/Kevin/miniconda/envs/DL4H_FINAL/lib/python3.10/site-packages (from transformers>=4.51->-r requirements.txt (line 9)) (2.32.3)\n",
      "Requirement already satisfied: tokenizers<0.22,>=0.21 in /Users/Kevin/miniconda/envs/DL4H_FINAL/lib/python3.10/site-packages (from transformers>=4.51->-r requirements.txt (line 9)) (0.21.1)\n",
      "Requirement already satisfied: safetensors>=0.4.3 in /Users/Kevin/miniconda/envs/DL4H_FINAL/lib/python3.10/site-packages (from transformers>=4.51->-r requirements.txt (line 9)) (0.5.3)\n",
      "Requirement already satisfied: contourpy>=1.0.1 in /Users/Kevin/miniconda/envs/DL4H_FINAL/lib/python3.10/site-packages (from matplotlib!=3.6.1,>=3.4->seaborn==0.13.2->-r requirements.txt (line 3)) (1.3.2)\n",
      "Requirement already satisfied: cycler>=0.10 in /Users/Kevin/miniconda/envs/DL4H_FINAL/lib/python3.10/site-packages (from matplotlib!=3.6.1,>=3.4->seaborn==0.13.2->-r requirements.txt (line 3)) (0.12.1)\n",
      "Requirement already satisfied: fonttools>=4.22.0 in /Users/Kevin/miniconda/envs/DL4H_FINAL/lib/python3.10/site-packages (from matplotlib!=3.6.1,>=3.4->seaborn==0.13.2->-r requirements.txt (line 3)) (4.57.0)\n",
      "Requirement already satisfied: kiwisolver>=1.3.1 in /Users/Kevin/miniconda/envs/DL4H_FINAL/lib/python3.10/site-packages (from matplotlib!=3.6.1,>=3.4->seaborn==0.13.2->-r requirements.txt (line 3)) (1.4.8)\n",
      "Requirement already satisfied: pillow>=8 in /Users/Kevin/miniconda/envs/DL4H_FINAL/lib/python3.10/site-packages (from matplotlib!=3.6.1,>=3.4->seaborn==0.13.2->-r requirements.txt (line 3)) (11.2.1)\n",
      "Requirement already satisfied: pyparsing>=2.3.1 in /Users/Kevin/miniconda/envs/DL4H_FINAL/lib/python3.10/site-packages (from matplotlib!=3.6.1,>=3.4->seaborn==0.13.2->-r requirements.txt (line 3)) (3.2.3)\n",
      "Requirement already satisfied: six>=1.5 in /Users/Kevin/miniconda/envs/DL4H_FINAL/lib/python3.10/site-packages (from python-dateutil>=2.8.2->pandas==2.2.3->-r requirements.txt (line 2)) (1.17.0)\n",
      "Requirement already satisfied: MarkupSafe>=2.0 in /Users/Kevin/miniconda/envs/DL4H_FINAL/lib/python3.10/site-packages (from jinja2->torch>=2.0.0->-r requirements.txt (line 7)) (3.0.2)\n",
      "Requirement already satisfied: charset_normalizer<4,>=2 in /Users/Kevin/miniconda/envs/DL4H_FINAL/lib/python3.10/site-packages (from requests->transformers>=4.51->-r requirements.txt (line 9)) (3.4.1)\n",
      "Requirement already satisfied: idna<4,>=2.5 in /Users/Kevin/miniconda/envs/DL4H_FINAL/lib/python3.10/site-packages (from requests->transformers>=4.51->-r requirements.txt (line 9)) (3.10)\n",
      "Requirement already satisfied: urllib3<3,>=1.21.1 in /Users/Kevin/miniconda/envs/DL4H_FINAL/lib/python3.10/site-packages (from requests->transformers>=4.51->-r requirements.txt (line 9)) (2.4.0)\n",
      "Requirement already satisfied: certifi>=2017.4.17 in /Users/Kevin/miniconda/envs/DL4H_FINAL/lib/python3.10/site-packages (from requests->transformers>=4.51->-r requirements.txt (line 9)) (2025.1.31)\n",
      "Requirement already satisfied: mpmath<1.4,>=1.1.0 in /Users/Kevin/miniconda/envs/DL4H_FINAL/lib/python3.10/site-packages (from sympy->torch>=2.0.0->-r requirements.txt (line 7)) (1.3.0)\n"
     ]
    }
   ],
   "source": [
    "!pip install -r requirements.txt"
   ]
  },
  {
   "cell_type": "code",
   "execution_count": 5,
   "id": "a87d109f-e9c8-4f01-8220-24973ad9374b",
   "metadata": {},
   "outputs": [
    {
     "name": "stderr",
     "output_type": "stream",
     "text": [
      "[nltk_data] Downloading package punkt to /Users/Kevin/nltk_data...\n",
      "[nltk_data]   Package punkt is already up-to-date!\n",
      "[nltk_data] Downloading package punkt_tab to /Users/Kevin/nltk_data...\n",
      "[nltk_data]   Package punkt_tab is already up-to-date!\n"
     ]
    },
    {
     "data": {
      "text/plain": [
       "True"
      ]
     },
     "execution_count": 5,
     "metadata": {},
     "output_type": "execute_result"
    }
   ],
   "source": [
    "#Download NLTK tokenizer\n",
    "import nltk\n",
    "nltk.download('punkt')\n",
    "nltk.download('punkt_tab')"
   ]
  },
  {
   "cell_type": "code",
   "execution_count": 22,
   "id": "c31ea9bb-6ca4-47dd-9080-1bf51cd7b739",
   "metadata": {},
   "outputs": [
    {
     "ename": "SyntaxError",
     "evalue": "invalid syntax (2542753598.py, line 1)",
     "output_type": "error",
     "traceback": [
      "\u001b[0;36m  Cell \u001b[0;32mIn[22], line 1\u001b[0;36m\u001b[0m\n\u001b[0;31m    from 'DPR/dpr/indexer' import faiss_indexers\u001b[0m\n\u001b[0m         ^\u001b[0m\n\u001b[0;31mSyntaxError\u001b[0m\u001b[0;31m:\u001b[0m invalid syntax\n"
     ]
    }
   ],
   "source": [
    "from DPR/dpr/indexer import faiss_indexers\n",
    "help (faiss_indexers)"
   ]
  },
  {
   "cell_type": "code",
   "execution_count": 6,
   "id": "1013931f-7ff7-421a-95fe-a6675e66e7a2",
   "metadata": {},
   "outputs": [
    {
     "name": "stdout",
     "output_type": "stream",
     "text": [
      "em: 0.85\n",
      "f1: 0.91\n",
      "Average number of words in paragraphs: 120.6\n",
      "Average number of words in questions: 9.9\n",
      "Average number of words in answers: 10.3\n",
      "what: 68.4%\n",
      "how: 16.8%\n",
      "why: 5.9%\n",
      "who: 2.9%\n",
      "when: 4.9%\n",
      "where: 1.0%\n",
      "Number of question entailment: 222\n",
      "Number of answer entailment: 149\n",
      "Similarities between questions and answers (f1): 0.17\n"
     ]
    }
   ],
   "source": [
    "%run -i 'utils/__main__.py'"
   ]
  },
  {
   "cell_type": "code",
   "execution_count": 24,
   "id": "15f48c4d-7af9-4589-8895-dc57c80d5fe8",
   "metadata": {},
   "outputs": [
    {
     "name": "stdout",
     "output_type": "stream",
     "text": [
      "Current working directory (using os): /Users/Kevin/Desktop/Source/Masters/DL4H/SleepQA-main\n"
     ]
    }
   ],
   "source": [
    "# Using os.getcwd()\n",
    "current_directory_os = os.getcwd()\n",
    "print(f\"Current working directory (using os): {current_directory_os}\")"
   ]
  },
  {
   "cell_type": "code",
   "execution_count": 35,
   "id": "56c6b464-8afe-424a-805a-d9a096d5ca2d",
   "metadata": {},
   "outputs": [
    {
     "name": "stderr",
     "output_type": "stream",
     "text": [
      "The tokenizer class you load from this checkpoint is not the same type as the class this function is called from. It may result in unexpected tokenization. \n",
      "The tokenizer class you load from this checkpoint is 'DPRQuestionEncoderTokenizer'. \n",
      "The class this function is called from is 'DPRReaderTokenizer'.\n"
     ]
    },
    {
     "name": "stdout",
     "output_type": "stream",
     "text": [
      "Current working directory (using os): /Users/Kevin/Desktop/Source/Masters/DL4H/SleepQA-main\n",
      "Extracted spans for 10 questions.\n",
      "Extracted spans for 20 questions.\n",
      "Extracted spans for 30 questions.\n",
      "Extracted spans for 40 questions.\n",
      "Extracted spans for 50 questions.\n",
      "Extracted spans for 60 questions.\n",
      "Extracted spans for 70 questions.\n",
      "Extracted spans for 80 questions.\n",
      "Extracted spans for 90 questions.\n",
      "Extracted spans for 100 questions.\n",
      "Extracted spans for 110 questions.\n",
      "Extracted spans for 120 questions.\n",
      "Extracted spans for 130 questions.\n",
      "Extracted spans for 140 questions.\n",
      "Extracted spans for 150 questions.\n",
      "Extracted spans for 160 questions.\n",
      "Extracted spans for 170 questions.\n",
      "Extracted spans for 180 questions.\n",
      "Extracted spans for 190 questions.\n",
      "Extracted spans for 200 questions.\n",
      "Extracted spans for 210 questions.\n",
      "Extracted spans for 220 questions.\n",
      "Extracted spans for 230 questions.\n",
      "Extracted spans for 240 questions.\n",
      "Extracted spans for 250 questions.\n",
      "Extracted spans for 260 questions.\n",
      "Extracted spans for 270 questions.\n",
      "Extracted spans for 280 questions.\n",
      "Extracted spans for 290 questions.\n",
      "Extracted spans for 300 questions.\n",
      "Extracted spans for 310 questions.\n",
      "Extracted spans for 320 questions.\n",
      "Extracted spans for 330 questions.\n",
      "Extracted spans for 340 questions.\n",
      "Extracted spans for 350 questions.\n",
      "Extracted spans for 360 questions.\n",
      "Extracted spans for 370 questions.\n",
      "Extracted spans for 380 questions.\n",
      "Extracted spans for 390 questions.\n",
      "Extracted spans for 400 questions.\n",
      "Extracted spans for 410 questions.\n",
      "Extracted spans for 420 questions.\n",
      "Extracted spans for 430 questions.\n",
      "Extracted spans for 440 questions.\n",
      "Extracted spans for 450 questions.\n",
      "Extracted spans for 460 questions.\n",
      "Extracted spans for 470 questions.\n",
      "Extracted spans for 480 questions.\n",
      "Extracted spans for 490 questions.\n",
      "Extracted spans for 500 questions.\n",
      "em: 0.24, f1: 0.33\n"
     ]
    }
   ],
   "source": [
    "%run -i 'models/qa_system.py'"
   ]
  },
  {
   "cell_type": "code",
   "execution_count": null,
   "id": "15f34be0-c5c2-47a0-93fe-6c5ed2d71b6d",
   "metadata": {},
   "outputs": [],
   "source": []
  }
 ],
 "metadata": {
  "kernelspec": {
   "display_name": "Python 3 (ipykernel)",
   "language": "python",
   "name": "python3"
  },
  "language_info": {
   "codemirror_mode": {
    "name": "ipython",
    "version": 3
   },
   "file_extension": ".py",
   "mimetype": "text/x-python",
   "name": "python",
   "nbconvert_exporter": "python",
   "pygments_lexer": "ipython3",
   "version": "3.10.16"
  }
 },
 "nbformat": 4,
 "nbformat_minor": 5
}
