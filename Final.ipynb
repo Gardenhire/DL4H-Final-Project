{
 "cells": [
  {
   "cell_type": "markdown",
   "id": "703b6bcf-bf53-4798-95b1-6bb991456b2e",
   "metadata": {},
   "source": [
    "**Final Project**"
   ]
  },
  {
   "cell_type": "code",
   "execution_count": null,
   "id": "5766da4b-8471-4a44-a376-23492f320aeb",
   "metadata": {},
   "outputs": [],
   "source": []
  },
  {
   "cell_type": "code",
   "execution_count": 1,
   "id": "eae270af-60a7-4f2a-87ee-0ce3e29b80a5",
   "metadata": {},
   "outputs": [
    {
     "name": "stdout",
     "output_type": "stream",
     "text": [
      "Overwriting requirements.txt\n"
     ]
    }
   ],
   "source": [
    "%%writefile requirements.txt\n",
    "\n",
    "pandas==2.2.3\n",
    "seaborn==0.13.2\n",
    "nltk==3.9.1\n",
    "iteration-utilities==0.13.0\n",
    "scikit-learn==1.6.1"
   ]
  },
  {
   "cell_type": "code",
   "execution_count": 2,
   "id": "7484f281-cd35-4d31-9d3a-78c4f8db8109",
   "metadata": {},
   "outputs": [
    {
     "name": "stdout",
     "output_type": "stream",
     "text": [
      "Requirement already satisfied: pandas==2.2.3 in /Users/Kevin/miniconda/envs/DL4H_FINAL/lib/python3.10/site-packages (from -r requirements.txt (line 2)) (2.2.3)\n",
      "Requirement already satisfied: seaborn==0.13.2 in /Users/Kevin/miniconda/envs/DL4H_FINAL/lib/python3.10/site-packages (from -r requirements.txt (line 3)) (0.13.2)\n",
      "Requirement already satisfied: nltk==3.9.1 in /Users/Kevin/miniconda/envs/DL4H_FINAL/lib/python3.10/site-packages (from -r requirements.txt (line 4)) (3.9.1)\n",
      "Requirement already satisfied: iteration-utilities==0.13.0 in /Users/Kevin/miniconda/envs/DL4H_FINAL/lib/python3.10/site-packages (from -r requirements.txt (line 5)) (0.13.0)\n",
      "Requirement already satisfied: scikit-learn==1.6.1 in /Users/Kevin/miniconda/envs/DL4H_FINAL/lib/python3.10/site-packages (from -r requirements.txt (line 6)) (1.6.1)\n",
      "Requirement already satisfied: numpy>=1.22.4 in /Users/Kevin/miniconda/envs/DL4H_FINAL/lib/python3.10/site-packages (from pandas==2.2.3->-r requirements.txt (line 2)) (2.2.5)\n",
      "Requirement already satisfied: python-dateutil>=2.8.2 in /Users/Kevin/miniconda/envs/DL4H_FINAL/lib/python3.10/site-packages (from pandas==2.2.3->-r requirements.txt (line 2)) (2.9.0.post0)\n",
      "Requirement already satisfied: pytz>=2020.1 in /Users/Kevin/miniconda/envs/DL4H_FINAL/lib/python3.10/site-packages (from pandas==2.2.3->-r requirements.txt (line 2)) (2025.2)\n",
      "Requirement already satisfied: tzdata>=2022.7 in /Users/Kevin/miniconda/envs/DL4H_FINAL/lib/python3.10/site-packages (from pandas==2.2.3->-r requirements.txt (line 2)) (2025.2)\n",
      "Requirement already satisfied: matplotlib!=3.6.1,>=3.4 in /Users/Kevin/miniconda/envs/DL4H_FINAL/lib/python3.10/site-packages (from seaborn==0.13.2->-r requirements.txt (line 3)) (3.10.1)\n",
      "Requirement already satisfied: click in /Users/Kevin/miniconda/envs/DL4H_FINAL/lib/python3.10/site-packages (from nltk==3.9.1->-r requirements.txt (line 4)) (8.1.8)\n",
      "Requirement already satisfied: joblib in /Users/Kevin/miniconda/envs/DL4H_FINAL/lib/python3.10/site-packages (from nltk==3.9.1->-r requirements.txt (line 4)) (1.4.2)\n",
      "Requirement already satisfied: regex>=2021.8.3 in /Users/Kevin/miniconda/envs/DL4H_FINAL/lib/python3.10/site-packages (from nltk==3.9.1->-r requirements.txt (line 4)) (2024.11.6)\n",
      "Requirement already satisfied: tqdm in /Users/Kevin/miniconda/envs/DL4H_FINAL/lib/python3.10/site-packages (from nltk==3.9.1->-r requirements.txt (line 4)) (4.67.1)\n",
      "Requirement already satisfied: scipy>=1.6.0 in /Users/Kevin/miniconda/envs/DL4H_FINAL/lib/python3.10/site-packages (from scikit-learn==1.6.1->-r requirements.txt (line 6)) (1.15.2)\n",
      "Requirement already satisfied: threadpoolctl>=3.1.0 in /Users/Kevin/miniconda/envs/DL4H_FINAL/lib/python3.10/site-packages (from scikit-learn==1.6.1->-r requirements.txt (line 6)) (3.6.0)\n",
      "Requirement already satisfied: contourpy>=1.0.1 in /Users/Kevin/miniconda/envs/DL4H_FINAL/lib/python3.10/site-packages (from matplotlib!=3.6.1,>=3.4->seaborn==0.13.2->-r requirements.txt (line 3)) (1.3.2)\n",
      "Requirement already satisfied: cycler>=0.10 in /Users/Kevin/miniconda/envs/DL4H_FINAL/lib/python3.10/site-packages (from matplotlib!=3.6.1,>=3.4->seaborn==0.13.2->-r requirements.txt (line 3)) (0.12.1)\n",
      "Requirement already satisfied: fonttools>=4.22.0 in /Users/Kevin/miniconda/envs/DL4H_FINAL/lib/python3.10/site-packages (from matplotlib!=3.6.1,>=3.4->seaborn==0.13.2->-r requirements.txt (line 3)) (4.57.0)\n",
      "Requirement already satisfied: kiwisolver>=1.3.1 in /Users/Kevin/miniconda/envs/DL4H_FINAL/lib/python3.10/site-packages (from matplotlib!=3.6.1,>=3.4->seaborn==0.13.2->-r requirements.txt (line 3)) (1.4.8)\n",
      "Requirement already satisfied: packaging>=20.0 in /Users/Kevin/miniconda/envs/DL4H_FINAL/lib/python3.10/site-packages (from matplotlib!=3.6.1,>=3.4->seaborn==0.13.2->-r requirements.txt (line 3)) (25.0)\n",
      "Requirement already satisfied: pillow>=8 in /Users/Kevin/miniconda/envs/DL4H_FINAL/lib/python3.10/site-packages (from matplotlib!=3.6.1,>=3.4->seaborn==0.13.2->-r requirements.txt (line 3)) (11.2.1)\n",
      "Requirement already satisfied: pyparsing>=2.3.1 in /Users/Kevin/miniconda/envs/DL4H_FINAL/lib/python3.10/site-packages (from matplotlib!=3.6.1,>=3.4->seaborn==0.13.2->-r requirements.txt (line 3)) (3.2.3)\n",
      "Requirement already satisfied: six>=1.5 in /Users/Kevin/miniconda/envs/DL4H_FINAL/lib/python3.10/site-packages (from python-dateutil>=2.8.2->pandas==2.2.3->-r requirements.txt (line 2)) (1.17.0)\n"
     ]
    }
   ],
   "source": [
    "!pip install -r requirements.txt"
   ]
  },
  {
   "cell_type": "code",
   "execution_count": 3,
   "id": "a87d109f-e9c8-4f01-8220-24973ad9374b",
   "metadata": {},
   "outputs": [
    {
     "name": "stderr",
     "output_type": "stream",
     "text": [
      "[nltk_data] Downloading package punkt to /Users/Kevin/nltk_data...\n",
      "[nltk_data]   Package punkt is already up-to-date!\n",
      "[nltk_data] Downloading package punkt_tab to /Users/Kevin/nltk_data...\n",
      "[nltk_data]   Package punkt_tab is already up-to-date!\n"
     ]
    },
    {
     "data": {
      "text/plain": [
       "True"
      ]
     },
     "execution_count": 3,
     "metadata": {},
     "output_type": "execute_result"
    }
   ],
   "source": [
    "#Download NLTK tokenizer\n",
    "import nltk\n",
    "nltk.download('punkt')\n",
    "nltk.download('punkt_tab')"
   ]
  },
  {
   "cell_type": "code",
   "execution_count": 4,
   "id": "1013931f-7ff7-421a-95fe-a6675e66e7a2",
   "metadata": {},
   "outputs": [
    {
     "name": "stdout",
     "output_type": "stream",
     "text": [
      "em: 0.85\n",
      "f1: 0.91\n",
      "Average number of words in paragraphs: 120.6\n",
      "Average number of words in questions: 9.9\n",
      "Average number of words in answers: 10.3\n",
      "what: 68.4%\n",
      "how: 16.8%\n",
      "why: 5.9%\n",
      "who: 2.9%\n",
      "when: 4.9%\n",
      "where: 1.0%\n",
      "Number of question entailment: 222\n",
      "Number of answer entailment: 149\n",
      "Similarities between questions and answers (f1): 0.17\n"
     ]
    }
   ],
   "source": [
    "%run -i 'utils/__main__.py'"
   ]
  },
  {
   "cell_type": "code",
   "execution_count": null,
   "id": "15f48c4d-7af9-4589-8895-dc57c80d5fe8",
   "metadata": {},
   "outputs": [],
   "source": []
  },
  {
   "cell_type": "code",
   "execution_count": null,
   "id": "56c6b464-8afe-424a-805a-d9a096d5ca2d",
   "metadata": {},
   "outputs": [],
   "source": []
  }
 ],
 "metadata": {
  "kernelspec": {
   "display_name": "Python 3 (ipykernel)",
   "language": "python",
   "name": "python3"
  },
  "language_info": {
   "codemirror_mode": {
    "name": "ipython",
    "version": 3
   },
   "file_extension": ".py",
   "mimetype": "text/x-python",
   "name": "python",
   "nbconvert_exporter": "python",
   "pygments_lexer": "ipython3",
   "version": "3.10.16"
  }
 },
 "nbformat": 4,
 "nbformat_minor": 5
}
